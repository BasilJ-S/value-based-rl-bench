{
 "cells": [
  {
   "cell_type": "code",
   "execution_count": 1,
   "metadata": {},
   "outputs": [
    {
     "name": "stdout",
     "output_type": "stream",
     "text": [
      "Requirement already satisfied: gymnasium[accept-rom-license,atari] in /Users/Basil/miniconda3/envs/MLWinter2025/lib/python3.11/site-packages (0.28.1)\n",
      "Requirement already satisfied: numpy>=1.21.0 in /Users/Basil/miniconda3/envs/MLWinter2025/lib/python3.11/site-packages (from gymnasium[accept-rom-license,atari]) (1.26.4)\n",
      "Requirement already satisfied: jax-jumpy>=1.0.0 in /Users/Basil/miniconda3/envs/MLWinter2025/lib/python3.11/site-packages (from gymnasium[accept-rom-license,atari]) (1.0.0)\n",
      "Requirement already satisfied: cloudpickle>=1.2.0 in /Users/Basil/miniconda3/envs/MLWinter2025/lib/python3.11/site-packages (from gymnasium[accept-rom-license,atari]) (3.0.0)\n",
      "Requirement already satisfied: typing-extensions>=4.3.0 in /Users/Basil/miniconda3/envs/MLWinter2025/lib/python3.11/site-packages (from gymnasium[accept-rom-license,atari]) (4.12.2)\n",
      "Requirement already satisfied: farama-notifications>=0.0.1 in /Users/Basil/miniconda3/envs/MLWinter2025/lib/python3.11/site-packages (from gymnasium[accept-rom-license,atari]) (0.0.4)\n",
      "Requirement already satisfied: autorom~=0.4.2 in /Users/Basil/miniconda3/envs/MLWinter2025/lib/python3.11/site-packages (from autorom[accept-rom-license]~=0.4.2; extra == \"accept-rom-license\"->gymnasium[accept-rom-license,atari]) (0.4.2)\n",
      "Requirement already satisfied: shimmy<1.0,>=0.1.0 in /Users/Basil/miniconda3/envs/MLWinter2025/lib/python3.11/site-packages (from shimmy[atari]<1.0,>=0.1.0; extra == \"atari\"->gymnasium[accept-rom-license,atari]) (0.2.1)\n",
      "Requirement already satisfied: click in /Users/Basil/miniconda3/envs/MLWinter2025/lib/python3.11/site-packages (from autorom~=0.4.2->autorom[accept-rom-license]~=0.4.2; extra == \"accept-rom-license\"->gymnasium[accept-rom-license,atari]) (8.1.8)\n",
      "Requirement already satisfied: requests in /Users/Basil/miniconda3/envs/MLWinter2025/lib/python3.11/site-packages (from autorom~=0.4.2->autorom[accept-rom-license]~=0.4.2; extra == \"accept-rom-license\"->gymnasium[accept-rom-license,atari]) (2.32.3)\n",
      "Requirement already satisfied: tqdm in /Users/Basil/miniconda3/envs/MLWinter2025/lib/python3.11/site-packages (from autorom~=0.4.2->autorom[accept-rom-license]~=0.4.2; extra == \"accept-rom-license\"->gymnasium[accept-rom-license,atari]) (4.67.1)\n",
      "Requirement already satisfied: AutoROM.accept-rom-license in /Users/Basil/miniconda3/envs/MLWinter2025/lib/python3.11/site-packages (from autorom[accept-rom-license]~=0.4.2; extra == \"accept-rom-license\"->gymnasium[accept-rom-license,atari]) (0.6.1)\n",
      "Requirement already satisfied: ale-py~=0.8.1 in /Users/Basil/miniconda3/envs/MLWinter2025/lib/python3.11/site-packages (from shimmy[atari]<1.0,>=0.1.0; extra == \"atari\"->gymnasium[accept-rom-license,atari]) (0.8.1)\n",
      "Requirement already satisfied: importlib-resources in /Users/Basil/miniconda3/envs/MLWinter2025/lib/python3.11/site-packages (from ale-py~=0.8.1->shimmy[atari]<1.0,>=0.1.0; extra == \"atari\"->gymnasium[accept-rom-license,atari]) (6.5.2)\n",
      "Requirement already satisfied: charset-normalizer<4,>=2 in /Users/Basil/miniconda3/envs/MLWinter2025/lib/python3.11/site-packages (from requests->autorom~=0.4.2->autorom[accept-rom-license]~=0.4.2; extra == \"accept-rom-license\"->gymnasium[accept-rom-license,atari]) (3.4.1)\n",
      "Requirement already satisfied: idna<4,>=2.5 in /Users/Basil/miniconda3/envs/MLWinter2025/lib/python3.11/site-packages (from requests->autorom~=0.4.2->autorom[accept-rom-license]~=0.4.2; extra == \"accept-rom-license\"->gymnasium[accept-rom-license,atari]) (3.10)\n",
      "Requirement already satisfied: urllib3<3,>=1.21.1 in /Users/Basil/miniconda3/envs/MLWinter2025/lib/python3.11/site-packages (from requests->autorom~=0.4.2->autorom[accept-rom-license]~=0.4.2; extra == \"accept-rom-license\"->gymnasium[accept-rom-license,atari]) (2.3.0)\n",
      "Requirement already satisfied: certifi>=2017.4.17 in /Users/Basil/miniconda3/envs/MLWinter2025/lib/python3.11/site-packages (from requests->autorom~=0.4.2->autorom[accept-rom-license]~=0.4.2; extra == \"accept-rom-license\"->gymnasium[accept-rom-license,atari]) (2025.1.31)\n",
      "Note: you may need to restart the kernel to use updated packages.\n"
     ]
    }
   ],
   "source": [
    "%pip install \"gymnasium[atari, accept-rom-license]\""
   ]
  },
  {
   "cell_type": "code",
   "execution_count": null,
   "metadata": {},
   "outputs": [
    {
     "name": "stdout",
     "output_type": "stream",
     "text": [
      "(210, 160, 3)\n",
      "100800\n",
      "[[[0 0 0]\n",
      "  [0 0 0]\n",
      "  [0 0 0]\n",
      "  ...\n",
      "  [0 0 0]\n",
      "  [0 0 0]\n",
      "  [0 0 0]]\n",
      "\n",
      " [[0 0 0]\n",
      "  [0 0 0]\n",
      "  [0 0 0]\n",
      "  ...\n",
      "  [0 0 0]\n",
      "  [0 0 0]\n",
      "  [0 0 0]]\n",
      "\n",
      " [[0 0 0]\n",
      "  [0 0 0]\n",
      "  [0 0 0]\n",
      "  ...\n",
      "  [0 0 0]\n",
      "  [0 0 0]\n",
      "  [0 0 0]]\n",
      "\n",
      " ...\n",
      "\n",
      " [[0 0 0]\n",
      "  [0 0 0]\n",
      "  [0 0 0]\n",
      "  ...\n",
      "  [0 0 0]\n",
      "  [0 0 0]\n",
      "  [0 0 0]]\n",
      "\n",
      " [[0 0 0]\n",
      "  [0 0 0]\n",
      "  [0 0 0]\n",
      "  ...\n",
      "  [0 0 0]\n",
      "  [0 0 0]\n",
      "  [0 0 0]]\n",
      "\n",
      " [[0 0 0]\n",
      "  [0 0 0]\n",
      "  [0 0 0]\n",
      "  ...\n",
      "  [0 0 0]\n",
      "  [0 0 0]\n",
      "  [0 0 0]]]\n",
      "{'lives': 4, 'episode_frame_number': 0, 'frame_number': 0}\n"
     ]
    }
   ],
   "source": [
    "import torch\n",
    "import numpy as np\n",
    "import gymnasium as gym\n",
    "\n",
    "env_name = 'ALE/Assault-ram-v5'\n",
    "env = gym.make(env_name)\n",
    "\n",
    "print(env.observation_space.shape)\n",
    "y = 1\n",
    "for x in env.observation_space.shape:\n",
    "    y = y * x\n",
    "print(y)\n",
    "\n",
    "initial_state,info = env.reset()\n",
    "\n",
    "print(initial_state)\n",
    "print(info)"
   ]
  },
  {
   "cell_type": "code",
   "execution_count": null,
   "metadata": {},
   "outputs": [
    {
     "ename": "TypeError",
     "evalue": "list indices must be integers or slices, not list",
     "output_type": "error",
     "traceback": [
      "\u001b[31m---------------------------------------------------------------------------\u001b[39m",
      "\u001b[31mTypeError\u001b[39m                                 Traceback (most recent call last)",
      "\u001b[36mCell\u001b[39m\u001b[36m \u001b[39m\u001b[32mIn[11]\u001b[39m\u001b[32m, line 4\u001b[39m\n\u001b[32m      1\u001b[39m rand = np.random.rand() \n\u001b[32m----> \u001b[39m\u001b[32m4\u001b[39m observation_prime, reward, terminated, truncated, info = \u001b[43menv\u001b[49m\u001b[43m.\u001b[49m\u001b[43mstep\u001b[49m\u001b[43m(\u001b[49m\u001b[43m[\u001b[49m\u001b[32;43m1\u001b[39;49m\u001b[43m,\u001b[49m\u001b[32;43m0\u001b[39;49m\u001b[43m,\u001b[49m\u001b[32;43m0\u001b[39;49m\u001b[43m,\u001b[49m\u001b[32;43m0\u001b[39;49m\u001b[43m,\u001b[49m\u001b[32;43m0\u001b[39;49m\u001b[43m,\u001b[49m\u001b[32;43m0\u001b[39;49m\u001b[43m]\u001b[49m\u001b[43m)\u001b[49m\n\u001b[32m      6\u001b[39m \u001b[38;5;28mprint\u001b[39m(observation_prime)\n",
      "\u001b[36mFile \u001b[39m\u001b[32m~/miniconda3/envs/MLWinter2025/lib/python3.11/site-packages/gymnasium/wrappers/order_enforcing.py:56\u001b[39m, in \u001b[36mOrderEnforcing.step\u001b[39m\u001b[34m(self, action)\u001b[39m\n\u001b[32m     54\u001b[39m \u001b[38;5;28;01mif\u001b[39;00m \u001b[38;5;129;01mnot\u001b[39;00m \u001b[38;5;28mself\u001b[39m._has_reset:\n\u001b[32m     55\u001b[39m     \u001b[38;5;28;01mraise\u001b[39;00m ResetNeeded(\u001b[33m\"\u001b[39m\u001b[33mCannot call env.step() before calling env.reset()\u001b[39m\u001b[33m\"\u001b[39m)\n\u001b[32m---> \u001b[39m\u001b[32m56\u001b[39m \u001b[38;5;28;01mreturn\u001b[39;00m \u001b[38;5;28;43mself\u001b[39;49m\u001b[43m.\u001b[49m\u001b[43menv\u001b[49m\u001b[43m.\u001b[49m\u001b[43mstep\u001b[49m\u001b[43m(\u001b[49m\u001b[43maction\u001b[49m\u001b[43m)\u001b[49m\n",
      "\u001b[36mFile \u001b[39m\u001b[32m~/miniconda3/envs/MLWinter2025/lib/python3.11/site-packages/gymnasium/wrappers/env_checker.py:49\u001b[39m, in \u001b[36mPassiveEnvChecker.step\u001b[39m\u001b[34m(self, action)\u001b[39m\n\u001b[32m     47\u001b[39m     \u001b[38;5;28;01mreturn\u001b[39;00m env_step_passive_checker(\u001b[38;5;28mself\u001b[39m.env, action)\n\u001b[32m     48\u001b[39m \u001b[38;5;28;01melse\u001b[39;00m:\n\u001b[32m---> \u001b[39m\u001b[32m49\u001b[39m     \u001b[38;5;28;01mreturn\u001b[39;00m \u001b[38;5;28;43mself\u001b[39;49m\u001b[43m.\u001b[49m\u001b[43menv\u001b[49m\u001b[43m.\u001b[49m\u001b[43mstep\u001b[49m\u001b[43m(\u001b[49m\u001b[43maction\u001b[49m\u001b[43m)\u001b[49m\n",
      "\u001b[36mFile \u001b[39m\u001b[32m~/miniconda3/envs/MLWinter2025/lib/python3.11/site-packages/shimmy/atari_env.py:280\u001b[39m, in \u001b[36mAtariEnv.step\u001b[39m\u001b[34m(self, action_ind)\u001b[39m\n\u001b[32m    270\u001b[39m \u001b[38;5;250m\u001b[39m\u001b[33;03m\"\"\"Perform one agent step, i.e., repeats `action` frameskip # of steps.\u001b[39;00m\n\u001b[32m    271\u001b[39m \n\u001b[32m    272\u001b[39m \u001b[33;03mArgs:\u001b[39;00m\n\u001b[32m   (...)\u001b[39m\u001b[32m    277\u001b[39m \u001b[33;03mNote: `metadata` contains the keys \"lives\" and \"rgb\" if render_mode == 'rgb_array'.\u001b[39;00m\n\u001b[32m    278\u001b[39m \u001b[33;03m\"\"\"\u001b[39;00m\n\u001b[32m    279\u001b[39m \u001b[38;5;66;03m# Get action enum, terminal bool, metadata\u001b[39;00m\n\u001b[32m--> \u001b[39m\u001b[32m280\u001b[39m action = \u001b[38;5;28;43mself\u001b[39;49m\u001b[43m.\u001b[49m\u001b[43m_action_set\u001b[49m\u001b[43m[\u001b[49m\u001b[43maction_ind\u001b[49m\u001b[43m]\u001b[49m\n\u001b[32m    282\u001b[39m \u001b[38;5;66;03m# If frameskip is a length 2 tuple then it's stochastic\u001b[39;00m\n\u001b[32m    283\u001b[39m \u001b[38;5;66;03m# frameskip between [frameskip[0], frameskip[1]] uniformly.\u001b[39;00m\n\u001b[32m    284\u001b[39m \u001b[38;5;28;01mif\u001b[39;00m \u001b[38;5;28misinstance\u001b[39m(\u001b[38;5;28mself\u001b[39m._frameskip, \u001b[38;5;28mint\u001b[39m):\n",
      "\u001b[31mTypeError\u001b[39m: list indices must be integers or slices, not list"
     ]
    }
   ],
   "source": [
    "rand = np.random.rand() \n",
    "\n",
    "\n",
    "observation_prime, reward, terminated, truncated, info = env.step(2)\n",
    "\n",
    "print(observation_prime)"
   ]
  }
 ],
 "metadata": {
  "kernelspec": {
   "display_name": "MLWinter2025",
   "language": "python",
   "name": "python3"
  },
  "language_info": {
   "codemirror_mode": {
    "name": "ipython",
    "version": 3
   },
   "file_extension": ".py",
   "mimetype": "text/x-python",
   "name": "python",
   "nbconvert_exporter": "python",
   "pygments_lexer": "ipython3",
   "version": "3.11.11"
  }
 },
 "nbformat": 4,
 "nbformat_minor": 2
}
